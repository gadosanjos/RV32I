{
 "cells": [
  {
   "cell_type": "code",
   "execution_count": 1,
   "metadata": {},
   "outputs": [],
   "source": [
    "def convert_to_logisim(input_file, output_file):\n",
    "    with open(input_file, \"rb\") as f:\n",
    "        data = f.read()\n",
    "\n",
    "    with open(output_file, \"w\") as f:\n",
    "        f.write(\"v2.0 raw\\n\")  # Logisim header\n",
    "        for i in range(0, len(data), 4):\n",
    "            word = data[i:i+4]\n",
    "            if len(word) == 4:\n",
    "                f.write(f\"{word[3]:02x}{word[2]:02x}{word[1]:02x}{word[0]:02x}\\n\")  # 32-bit words\n",
    "\n",
    "# Convert instruction memory (imem)\n",
    "convert_to_logisim(\"imem.bin\", \"../logisim_imem.txt\")\n",
    "\n",
    "# Convert data memory (dmem)\n",
    "convert_to_logisim(\"dmem.bin\", \"../logisim_dmem.txt\")"
   ]
  }
 ],
 "metadata": {
  "kernelspec": {
   "display_name": "Python 3",
   "language": "python",
   "name": "python3"
  },
  "language_info": {
   "codemirror_mode": {
    "name": "ipython",
    "version": 3
   },
   "file_extension": ".py",
   "mimetype": "text/x-python",
   "name": "python",
   "nbconvert_exporter": "python",
   "pygments_lexer": "ipython3",
   "version": "3.12.4"
  }
 },
 "nbformat": 4,
 "nbformat_minor": 2
}
